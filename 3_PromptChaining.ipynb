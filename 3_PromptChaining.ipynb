{
 "cells": [
  {
   "cell_type": "code",
   "execution_count": 2,
   "id": "d1885fc2",
   "metadata": {},
   "outputs": [],
   "source": [
    "from langgraph.graph import StateGraph, START,END\n",
    "from typing import TypedDict\n",
    "\n",
    "from dotenv import load_dotenv\n",
    "import os\n",
    "from langchain.chat_models import init_chat_model"
   ]
  },
  {
   "cell_type": "code",
   "execution_count": 3,
   "id": "047327d6",
   "metadata": {},
   "outputs": [],
   "source": [
    "#load keys\n",
    "load_dotenv()\n",
    "model = init_chat_model(\"openai/gpt-oss-120b\",model_provider=\"groq\")"
   ]
  },
  {
   "cell_type": "code",
   "execution_count": 4,
   "id": "dd022aed",
   "metadata": {},
   "outputs": [],
   "source": [
    "# State Schema\n",
    "class BlogState(TypedDict):\n",
    "    \n",
    "    topic: str\n",
    "    title: str\n",
    "    content: str"
   ]
  },
  {
   "cell_type": "code",
   "execution_count": 10,
   "id": "b7b95475",
   "metadata": {},
   "outputs": [],
   "source": [
    "#create title\n",
    "def title_creation(state: BlogState)-> BlogState:\n",
    "    topic = state['topic']\n",
    "    prompt =f\"Create a welldefined title for the topic {topic}\"\n",
    "    title = model.invoke(prompt).content\n",
    "    \n",
    "    state['title'] = title\n",
    "    \n",
    "    return state\n",
    "    \n",
    "\n",
    "#blog creation:\n",
    "def create_blog(state: BlogState)->BlogState:\n",
    "    title = state['title']\n",
    "    prompt = f\"create a short paragraph for the title {title} covering significant information\"\n",
    "    content = model.invoke(prompt).content\n",
    "    \n",
    "    state['content'] = content\n",
    "    return state\n",
    "    \n",
    "    pass\n",
    "    "
   ]
  },
  {
   "cell_type": "code",
   "execution_count": 11,
   "id": "bd4fddeb",
   "metadata": {},
   "outputs": [
    {
     "data": {
      "image/png": "[encoded data removed]",
      "text/plain": [
       "<langgraph.graph.state.CompiledStateGraph object at 0x10981ac10>"
      ]
     },
     "execution_count": 11,
     "metadata": {},
     "output_type": "execute_result"
    }
   ],
   "source": [
    "graph = StateGraph(BlogState)\n",
    "\n",
    "#add nodes\n",
    "graph.add_node('form_title',title_creation)\n",
    "graph.add_node('create_blog',create_blog)\n",
    "\n",
    "#add edges\n",
    "graph.add_edge(START,'form_title')\n",
    "graph.add_edge('form_title','create_blog')\n",
    "graph.add_edge('create_blog',END)\n",
    "\n",
    "workflow = graph.compile()\n",
    "workflow\n"
   ]
  },
  {
   "cell_type": "code",
   "execution_count": 13,
   "id": "0bc83253",
   "metadata": {},
   "outputs": [
    {
     "name": "stdout",
     "output_type": "stream",
     "text": [
      "**\"AI Ascendant: Charting the Rapid Growth and Impact of Artificial Intelligence in India\"**\n"
     ]
    }
   ],
   "source": [
    "inital_state = {'topic':\"Rise of AI in India\"}\n",
    "final_state = workflow.invoke(inital_state)\n",
    "print(final_state['title'])"
   ]
  },
  {
   "cell_type": "code",
   "execution_count": null,
   "id": "bbf27c87",
   "metadata": {},
   "outputs": [
    {
     "name": "stdout",
     "output_type": "stream",
     "text": [
      "India’s AI landscape is soaring, driven by a confluence of ambitious government policies, a burgeoning startup ecosystem, and massive data resources. Since 2020, AI‑related investments have surged past $10 billion, while the country now hosts over 2,500 AI‑focused startups—ranking it among the world’s top five hubs for AI innovation. Flagship initiatives such as the National AI Strategy (2021), the launch of the Centre for Excellence in AI, and the AI‑enabled “Digital India” programs are catalyzing adoption across sectors ranging from healthcare (AI‑driven diagnostics and tele‑medicine) and agriculture (precision farming and crop‑yield forecasting) to finance (fraud detection, credit scoring) and public services (smart city management, predictive policing). The talent pipeline is expanding rapidly, with more than 150,000 AI‑skilled graduates emerging annually from premier institutes and industry‑led bootcamps. Yet challenges remain—data privacy concerns, regulatory lag, and the need for robust AI ethics frameworks. Looking ahead, experts project that AI could contribute up to $1 trillion to India’s GDP by 2030, cementing its role as a pivotal engine of economic growth and societal transformation.\n"
     ]
    }
   ],
   "source": [
    "print(final_state['content'])"
   ]
  },
  {
   "cell_type": "code",
   "execution_count": null,
   "id": "5094100a",
   "metadata": {},
   "outputs": [],
   "source": []
  }
 ],
 "metadata": {
  "kernelspec": {
   "display_name": "langgraph (3.13.5)",
   "language": "python",
   "name": "python3"
  },
  "language_info": {
   "codemirror_mode": {
    "name": "ipython",
    "version": 3
   },
   "file_extension": ".py",
   "mimetype": "text/x-python",
   "name": "python",
   "nbconvert_exporter": "python",
   "pygments_lexer": "ipython3",
   "version": "3.13.5"
  }
 },
 "nbformat": 4,
 "nbformat_minor": 5
}
