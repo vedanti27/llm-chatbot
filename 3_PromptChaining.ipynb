{
 "cells": [
  {
   "cell_type": "code",
   "execution_count": 1,
   "id": "d1885fc2",
   "metadata": {},
   "outputs": [],
   "source": [
    "from langgraph.graph import StateGraph, START,END\n",
    "from typing import TypedDict\n",
    "\n",
    "from dotenv import load_dotenv\n",
    "import os\n",
    "from langchain.chat_models import init_chat_model"
   ]
  },
  {
   "cell_type": "code",
   "execution_count": 2,
   "id": "047327d6",
   "metadata": {},
   "outputs": [],
   "source": [
    "#load keys\n",
    "load_dotenv()\n",
    "model = init_chat_model(\"openai/gpt-oss-120b\",model_provider=\"groq\")"
   ]
  },
  {
   "cell_type": "code",
   "execution_count": 4,
   "id": "dd022aed",
   "metadata": {},
   "outputs": [],
   "source": [
    "# State Schema\n",
    "class BlogState(TypedDict):\n",
    "    \n",
    "    topic: str\n",
    "    title: str\n",
    "    outline: str\n",
    "    content: str"
   ]
  },
  {
   "cell_type": "code",
   "execution_count": null,
   "id": "bd4fddeb",
   "metadata": {},
   "outputs": [],
   "source": [
    "graph = StateGraph(BlogState)\n",
    "\n",
    "#add nodes\n",
    "graph.add_node('Form_title',title_creation)\n",
    "graph.add_node('create_blog',create_blog)\n",
    "\n",
    "#add edges\n",
    "graph.add_edge(START,'title_creation')\n",
    "graph.add_edges('create')\n"
   ]
  }
 ],
 "metadata": {
  "kernelspec": {
   "display_name": "langgraph (3.13.5)",
   "language": "python",
   "name": "python3"
  },
  "language_info": {
   "codemirror_mode": {
    "name": "ipython",
    "version": 3
   },
   "file_extension": ".py",
   "mimetype": "text/x-python",
   "name": "python",
   "nbconvert_exporter": "python",
   "pygments_lexer": "ipython3",
   "version": "3.13.5"
  }
 },
 "nbformat": 4,
 "nbformat_minor": 5
}
