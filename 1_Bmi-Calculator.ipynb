{
 "cells": [
  {
   "cell_type": "code",
   "execution_count": 5,
   "id": "25cbbbdb",
   "metadata": {},
   "outputs": [],
   "source": [
    "from langgraph.graph import StateGraph,START,END\n",
    "from typing import TypedDict\n"
   ]
  },
  {
   "cell_type": "code",
   "execution_count": 6,
   "id": "58da8608",
   "metadata": {},
   "outputs": [],
   "source": [
    "# define state\n",
    "class BMIState(TypedDict):\n",
    "    weight_kg: float\n",
    "    heigh_m: float\n",
    "    bmi : float\n",
    "    "
   ]
  },
  {
   "cell_type": "code",
   "execution_count": 7,
   "id": "5c6fc43f",
   "metadata": {},
   "outputs": [],
   "source": [
    "#calculate bmi function\n",
    "\n",
    "def calculate_bmi(state: BMIState) -> BMIState: \n",
    "    # parameter and returning State\n",
    "    #accessing state keys\n",
    "    weight = state['weight_kg']\n",
    "    height = state['heigh_m']\n",
    "    #bmi calculation\n",
    "    bmi = weight/(height**2)\n",
    "    \n",
    "    #partial update in state\n",
    "    state['bmi']=round(bmi,2)\n",
    "    return state"
   ]
  },
  {
   "cell_type": "code",
   "execution_count": 8,
   "id": "51b93ffc",
   "metadata": {},
   "outputs": [
    {
     "name": "stdout",
     "output_type": "stream",
     "text": [
      "<langgraph.graph.state.CompiledStateGraph object at 0x120566a50>\n",
      "{'weight_kg': 80, 'heigh_m': 1.73, 'bmi': 26.73}\n"
     ]
    }
   ],
   "source": [
    "#Define Graph workflow\n",
    "graph = StateGraph(BMIState)\n",
    "\n",
    "#add nodes to workflow: Name of node and function it should call\n",
    "graph.add_node('Calculate BMI',calculate_bmi)\n",
    "\n",
    "#add edges to workflow\n",
    "graph.add_edge(START,'Calculate BMI')\n",
    "graph.add_edge('Calculate BMI',END)\n",
    "\n",
    "#compile graph\n",
    "workflow = graph.compile()\n",
    "\n",
    "print(workflow)\n",
    "\n",
    "#execute graph\n",
    "intial_state = {'weight_kg':80,'heigh_m':1.73}\n",
    "Final_state = workflow.invoke(intial_state)\n",
    "print(Final_state)"
   ]
  },
  {
   "cell_type": "code",
   "execution_count": 9,
   "id": "0a08a8f8",
   "metadata": {},
   "outputs": [
    {
     "data": {
      "image/png": "[encoded data removed]",
      "text/plain": [
       "<langgraph.graph.state.CompiledStateGraph object at 0x120566a50>"
      ]
     },
     "execution_count": 9,
     "metadata": {},
     "output_type": "execute_result"
    }
   ],
   "source": [
    "workflow"
   ]
  },
  {
   "cell_type": "code",
   "execution_count": null,
   "id": "66241172",
   "metadata": {},
   "outputs": [],
   "source": []
  }
 ],
 "metadata": {
  "kernelspec": {
   "display_name": "langgraph (3.13.5)",
   "language": "python",
   "name": "python3"
  },
  "language_info": {
   "codemirror_mode": {
    "name": "ipython",
    "version": 3
   },
   "file_extension": ".py",
   "mimetype": "text/x-python",
   "name": "python",
   "nbconvert_exporter": "python",
   "pygments_lexer": "ipython3",
   "version": "3.13.5"
  }
 },
 "nbformat": 4,
 "nbformat_minor": 5
}
