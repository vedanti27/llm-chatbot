{
 "cells": [
  {
   "cell_type": "code",
   "execution_count": 3,
   "id": "22bfb7ca",
   "metadata": {},
   "outputs": [],
   "source": [
    "from langgraph.graph import StateGraph,START,END\n",
    "from typing import TypedDict\n",
    "from dotenv import load_dotenv\n",
    "import os\n",
    "from langchain.chat_models import init_chat_model"
   ]
  },
  {
   "cell_type": "code",
   "execution_count": 4,
   "id": "bb21aabb",
   "metadata": {},
   "outputs": [],
   "source": [
    "load_dotenv()\n",
    "model = init_chat_model(\"openai/gpt-oss-120b\",model_provider=\"groq\")"
   ]
  },
  {
   "cell_type": "code",
   "execution_count": 5,
   "id": "78ac7e0b",
   "metadata": {},
   "outputs": [],
   "source": [
    "#State\n",
    "\n",
    "class LLMState(TypedDict):\n",
    "    question: str\n",
    "    answer: str\n"
   ]
  },
  {
   "cell_type": "code",
   "execution_count": 6,
   "id": "eda91539",
   "metadata": {},
   "outputs": [],
   "source": [
    "def llm_qa(state: LLMState)-> LLMState:\n",
    "    #extract the question from state\n",
    "    question = state['question']\n",
    "    \n",
    "    #form a prompt\n",
    "    prompt = f\"Answer the following question in 1-2 lines {question}\"\n",
    "    \n",
    "    #ask the question to the LLM\n",
    "    answer = model.invoke(prompt).content\n",
    "    \n",
    "    #update the answer in state\n",
    "    state['answer']=answer\n",
    "    \n",
    "    return state"
   ]
  },
  {
   "cell_type": "code",
   "execution_count": 7,
   "id": "68b89cc7",
   "metadata": {},
   "outputs": [
    {
     "data": {
      "image/png": "[encoded data removed]",
      "text/plain": [
       "<langgraph.graph.state.CompiledStateGraph object at 0x12696e900>"
      ]
     },
     "execution_count": 7,
     "metadata": {},
     "output_type": "execute_result"
    }
   ],
   "source": [
    "#graph \n",
    "graph = StateGraph(LLMState)\n",
    "\n",
    "#nodes\n",
    "graph.add_node(\"llm_qa\",llm_qa)\n",
    "\n",
    "#add edges\n",
    "graph.add_edge(START,\"llm_qa\")\n",
    "graph.add_edge(\"llm_qa\",END)\n",
    "\n",
    "#compile\n",
    "workflow = graph.compile()\n",
    "\n",
    "workflow\n"
   ]
  },
  {
   "cell_type": "code",
   "execution_count": 12,
   "id": "72caccd5",
   "metadata": {},
   "outputs": [
    {
     "name": "stdout",
     "output_type": "stream",
     "text": [
      "OpenAI was founded in December 2015 by a group of tech leaders including Elon Musk, Sam Altman, Greg Brockman, Ilya Sutskever, John Schulman, and Wojciech Zaremba.\n"
     ]
    }
   ],
   "source": [
    "#execute\n",
    "intial_state = {'question':\"who invented OpenAI\"}\n",
    "final_state = workflow.invoke(intial_state)\n",
    "\n",
    "print(final_state['answer'])\n"
   ]
  },
  {
   "cell_type": "code",
   "execution_count": null,
   "id": "2a7464d4",
   "metadata": {},
   "outputs": [],
   "source": []
  }
 ],
 "metadata": {
  "kernelspec": {
   "display_name": "langgraph (3.13.5)",
   "language": "python",
   "name": "python3"
  },
  "language_info": {
   "codemirror_mode": {
    "name": "ipython",
    "version": 3
   },
   "file_extension": ".py",
   "mimetype": "text/x-python",
   "name": "python",
   "nbconvert_exporter": "python",
   "pygments_lexer": "ipython3",
   "version": "3.13.5"
  }
 },
 "nbformat": 4,
 "nbformat_minor": 5
}
